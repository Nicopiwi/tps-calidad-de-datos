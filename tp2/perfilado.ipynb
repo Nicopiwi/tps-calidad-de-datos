{
 "cells": [
  {
   "cell_type": "code",
   "execution_count": 1,
   "metadata": {},
   "outputs": [],
   "source": [
    "import pandas as pd\n",
    "import numpy as np\n",
    "import matplotlib.pyplot as plt"
   ]
  },
  {
   "cell_type": "code",
   "execution_count": 2,
   "metadata": {},
   "outputs": [],
   "source": [
    "df_pozos_general = pd.read_csv('./data/capitulo-iv-pozos.csv')\n",
    "df_pozos_general_2024 = pd.read_csv('./data/produccin-de-pozos-de-gas-y-petrleo-2024.csv', low_memory=False)\n",
    "df_pozos_noconvencional = pd.read_csv('./data/produccin-de-pozos-de-gas-y-petrleo-no-convencional.csv', low_memory=False)"
   ]
  },
  {
   "cell_type": "code",
   "execution_count": 5,
   "metadata": {},
   "outputs": [
    {
     "data": {
      "text/html": [
       "<div>\n",
       "<style scoped>\n",
       "    .dataframe tbody tr th:only-of-type {\n",
       "        vertical-align: middle;\n",
       "    }\n",
       "\n",
       "    .dataframe tbody tr th {\n",
       "        vertical-align: top;\n",
       "    }\n",
       "\n",
       "    .dataframe thead th {\n",
       "        text-align: right;\n",
       "    }\n",
       "</style>\n",
       "<table border=\"1\" class=\"dataframe\">\n",
       "  <thead>\n",
       "    <tr style=\"text-align: right;\">\n",
       "      <th></th>\n",
       "      <th>sigla</th>\n",
       "      <th>idpozo</th>\n",
       "      <th>area</th>\n",
       "      <th>cod_area</th>\n",
       "      <th>empresa</th>\n",
       "      <th>yacimiento</th>\n",
       "      <th>cod_yacimiento</th>\n",
       "      <th>formacion</th>\n",
       "      <th>cuenca</th>\n",
       "      <th>provincia</th>\n",
       "      <th>...</th>\n",
       "      <th>gasplus</th>\n",
       "      <th>tipopozo</th>\n",
       "      <th>tipoextraccion</th>\n",
       "      <th>tipoestado</th>\n",
       "      <th>adjiv_fecha_inicio_perf</th>\n",
       "      <th>adjiv_fecha_fin_perf</th>\n",
       "      <th>adjiv_fecha_inicio_term</th>\n",
       "      <th>adjiv_fecha_fin_term</th>\n",
       "      <th>geojson</th>\n",
       "      <th>geom</th>\n",
       "    </tr>\n",
       "  </thead>\n",
       "  <tbody>\n",
       "    <tr>\n",
       "      <th>0</th>\n",
       "      <td>CH.CH.EaLE.x-1</td>\n",
       "      <td>212</td>\n",
       "      <td>ESTANCIA LA ESCONDIDA</td>\n",
       "      <td>ECH</td>\n",
       "      <td>COLHUE HUAPI S.A.</td>\n",
       "      <td>ESTANCIA LA ESCONDIDA</td>\n",
       "      <td>ELA</td>\n",
       "      <td>comodoro rivadavia</td>\n",
       "      <td>GOLFO SAN JORGE</td>\n",
       "      <td>Chubut</td>\n",
       "      <td>...</td>\n",
       "      <td>no</td>\n",
       "      <td>Petrolífero</td>\n",
       "      <td>Bombeo Mecánico</td>\n",
       "      <td>Extracción Efectiva</td>\n",
       "      <td>1996-10-30</td>\n",
       "      <td>1996-11-13</td>\n",
       "      <td>1996-11-17</td>\n",
       "      <td>1996-12-07</td>\n",
       "      <td>{\"type\":\"Point\",\"coordinates\":[-68.28785299999...</td>\n",
       "      <td>0101000020E61000008D43FD2E6C1251C00E4B033FAACB...</td>\n",
       "    </tr>\n",
       "    <tr>\n",
       "      <th>1</th>\n",
       "      <td>CH.CH.EaLE.x-2</td>\n",
       "      <td>213</td>\n",
       "      <td>ESTANCIA LA ESCONDIDA</td>\n",
       "      <td>ECH</td>\n",
       "      <td>COLHUE HUAPI S.A.</td>\n",
       "      <td>ESTANCIA LA ESCONDIDA</td>\n",
       "      <td>ELA</td>\n",
       "      <td>comodoro rivadavia</td>\n",
       "      <td>GOLFO SAN JORGE</td>\n",
       "      <td>Chubut</td>\n",
       "      <td>...</td>\n",
       "      <td>no</td>\n",
       "      <td>Inyección de Agua</td>\n",
       "      <td>Sin Sistema de Extracción</td>\n",
       "      <td>En Inyección Efectiva</td>\n",
       "      <td>1996-10-14</td>\n",
       "      <td>1996-11-13</td>\n",
       "      <td>1996-12-09</td>\n",
       "      <td>1996-12-17</td>\n",
       "      <td>{\"type\":\"Point\",\"coordinates\":[-68.29201899999...</td>\n",
       "      <td>0101000020E6100000E1B37570B01251C00BB5A679C7CB...</td>\n",
       "    </tr>\n",
       "    <tr>\n",
       "      <th>2</th>\n",
       "      <td>CH.CH.EaLE-3</td>\n",
       "      <td>214</td>\n",
       "      <td>ESTANCIA LA ESCONDIDA</td>\n",
       "      <td>ECH</td>\n",
       "      <td>COLHUE HUAPI S.A.</td>\n",
       "      <td>ESTANCIA LA ESCONDIDA</td>\n",
       "      <td>ELA</td>\n",
       "      <td>comodoro rivadavia</td>\n",
       "      <td>GOLFO SAN JORGE</td>\n",
       "      <td>Chubut</td>\n",
       "      <td>...</td>\n",
       "      <td>no</td>\n",
       "      <td>Petrolífero</td>\n",
       "      <td>Bombeo Mecánico</td>\n",
       "      <td>Extracción Efectiva</td>\n",
       "      <td>1997-01-30</td>\n",
       "      <td>1997-02-07</td>\n",
       "      <td>1997-03-02</td>\n",
       "      <td>1997-03-10</td>\n",
       "      <td>{\"type\":\"Point\",\"coordinates\":[-68.28387800000...</td>\n",
       "      <td>0101000020E61000007383A10E2B1251C082548A1D8DCB...</td>\n",
       "    </tr>\n",
       "    <tr>\n",
       "      <th>3</th>\n",
       "      <td>CH.CH.EaLE-4</td>\n",
       "      <td>215</td>\n",
       "      <td>ESTANCIA LA ESCONDIDA</td>\n",
       "      <td>ECH</td>\n",
       "      <td>COLHUE HUAPI S.A.</td>\n",
       "      <td>ESTANCIA LA ESCONDIDA</td>\n",
       "      <td>ELA</td>\n",
       "      <td>comodoro rivadavia</td>\n",
       "      <td>GOLFO SAN JORGE</td>\n",
       "      <td>Chubut</td>\n",
       "      <td>...</td>\n",
       "      <td>no</td>\n",
       "      <td>Petrolífero</td>\n",
       "      <td>Bombeo Mecánico</td>\n",
       "      <td>Extracción Efectiva</td>\n",
       "      <td>1997-01-13</td>\n",
       "      <td>1997-01-20</td>\n",
       "      <td>1997-01-23</td>\n",
       "      <td>1997-02-07</td>\n",
       "      <td>{\"type\":\"Point\",\"coordinates\":[-68.28948300000...</td>\n",
       "      <td>0101000020E6100000DF6FB4E3861251C0A148F7730ACC...</td>\n",
       "    </tr>\n",
       "    <tr>\n",
       "      <th>4</th>\n",
       "      <td>CH.CH.EaLE-5</td>\n",
       "      <td>216</td>\n",
       "      <td>ESTANCIA LA ESCONDIDA</td>\n",
       "      <td>ECH</td>\n",
       "      <td>COLHUE HUAPI S.A.</td>\n",
       "      <td>ESTANCIA LA ESCONDIDA</td>\n",
       "      <td>ELA</td>\n",
       "      <td>comodoro rivadavia</td>\n",
       "      <td>GOLFO SAN JORGE</td>\n",
       "      <td>Chubut</td>\n",
       "      <td>...</td>\n",
       "      <td>no</td>\n",
       "      <td>Petrolífero</td>\n",
       "      <td>Bombeo Mecánico</td>\n",
       "      <td>Extracción Efectiva</td>\n",
       "      <td>1997-02-16</td>\n",
       "      <td>1997-02-24</td>\n",
       "      <td>1997-03-10</td>\n",
       "      <td>1997-03-18</td>\n",
       "      <td>{\"type\":\"Point\",\"coordinates\":[-68.29447500000...</td>\n",
       "      <td>0101000020E6100000569FABADD81251C0B98D06F016CC...</td>\n",
       "    </tr>\n",
       "  </tbody>\n",
       "</table>\n",
       "<p>5 rows × 26 columns</p>\n",
       "</div>"
      ],
      "text/plain": [
       "            sigla  idpozo                   area cod_area            empresa  \\\n",
       "0  CH.CH.EaLE.x-1     212  ESTANCIA LA ESCONDIDA      ECH  COLHUE HUAPI S.A.   \n",
       "1  CH.CH.EaLE.x-2     213  ESTANCIA LA ESCONDIDA      ECH  COLHUE HUAPI S.A.   \n",
       "2    CH.CH.EaLE-3     214  ESTANCIA LA ESCONDIDA      ECH  COLHUE HUAPI S.A.   \n",
       "3    CH.CH.EaLE-4     215  ESTANCIA LA ESCONDIDA      ECH  COLHUE HUAPI S.A.   \n",
       "4    CH.CH.EaLE-5     216  ESTANCIA LA ESCONDIDA      ECH  COLHUE HUAPI S.A.   \n",
       "\n",
       "              yacimiento cod_yacimiento           formacion           cuenca  \\\n",
       "0  ESTANCIA LA ESCONDIDA            ELA  comodoro rivadavia  GOLFO SAN JORGE   \n",
       "1  ESTANCIA LA ESCONDIDA            ELA  comodoro rivadavia  GOLFO SAN JORGE   \n",
       "2  ESTANCIA LA ESCONDIDA            ELA  comodoro rivadavia  GOLFO SAN JORGE   \n",
       "3  ESTANCIA LA ESCONDIDA            ELA  comodoro rivadavia  GOLFO SAN JORGE   \n",
       "4  ESTANCIA LA ESCONDIDA            ELA  comodoro rivadavia  GOLFO SAN JORGE   \n",
       "\n",
       "  provincia  ...  gasplus           tipopozo             tipoextraccion  \\\n",
       "0    Chubut  ...       no        Petrolífero            Bombeo Mecánico   \n",
       "1    Chubut  ...       no  Inyección de Agua  Sin Sistema de Extracción   \n",
       "2    Chubut  ...       no        Petrolífero            Bombeo Mecánico   \n",
       "3    Chubut  ...       no        Petrolífero            Bombeo Mecánico   \n",
       "4    Chubut  ...       no        Petrolífero            Bombeo Mecánico   \n",
       "\n",
       "              tipoestado adjiv_fecha_inicio_perf adjiv_fecha_fin_perf  \\\n",
       "0    Extracción Efectiva              1996-10-30           1996-11-13   \n",
       "1  En Inyección Efectiva              1996-10-14           1996-11-13   \n",
       "2    Extracción Efectiva              1997-01-30           1997-02-07   \n",
       "3    Extracción Efectiva              1997-01-13           1997-01-20   \n",
       "4    Extracción Efectiva              1997-02-16           1997-02-24   \n",
       "\n",
       "  adjiv_fecha_inicio_term adjiv_fecha_fin_term  \\\n",
       "0              1996-11-17           1996-12-07   \n",
       "1              1996-12-09           1996-12-17   \n",
       "2              1997-03-02           1997-03-10   \n",
       "3              1997-01-23           1997-02-07   \n",
       "4              1997-03-10           1997-03-18   \n",
       "\n",
       "                                             geojson  \\\n",
       "0  {\"type\":\"Point\",\"coordinates\":[-68.28785299999...   \n",
       "1  {\"type\":\"Point\",\"coordinates\":[-68.29201899999...   \n",
       "2  {\"type\":\"Point\",\"coordinates\":[-68.28387800000...   \n",
       "3  {\"type\":\"Point\",\"coordinates\":[-68.28948300000...   \n",
       "4  {\"type\":\"Point\",\"coordinates\":[-68.29447500000...   \n",
       "\n",
       "                                                geom  \n",
       "0  0101000020E61000008D43FD2E6C1251C00E4B033FAACB...  \n",
       "1  0101000020E6100000E1B37570B01251C00BB5A679C7CB...  \n",
       "2  0101000020E61000007383A10E2B1251C082548A1D8DCB...  \n",
       "3  0101000020E6100000DF6FB4E3861251C0A148F7730ACC...  \n",
       "4  0101000020E6100000569FABADD81251C0B98D06F016CC...  \n",
       "\n",
       "[5 rows x 26 columns]"
      ]
     },
     "execution_count": 5,
     "metadata": {},
     "output_type": "execute_result"
    }
   ],
   "source": [
    "df_pozos_general.head()"
   ]
  },
  {
   "cell_type": "code",
   "execution_count": 17,
   "metadata": {},
   "outputs": [
    {
     "data": {
      "text/html": [
       "<div>\n",
       "<style scoped>\n",
       "    .dataframe tbody tr th:only-of-type {\n",
       "        vertical-align: middle;\n",
       "    }\n",
       "\n",
       "    .dataframe tbody tr th {\n",
       "        vertical-align: top;\n",
       "    }\n",
       "\n",
       "    .dataframe thead th {\n",
       "        text-align: right;\n",
       "    }\n",
       "</style>\n",
       "<table border=\"1\" class=\"dataframe\">\n",
       "  <thead>\n",
       "    <tr style=\"text-align: right;\">\n",
       "      <th></th>\n",
       "      <th>idempresa</th>\n",
       "      <th>anio</th>\n",
       "      <th>mes</th>\n",
       "      <th>idpozo</th>\n",
       "      <th>prod_pet</th>\n",
       "      <th>prod_gas</th>\n",
       "      <th>prod_agua</th>\n",
       "      <th>iny_agua</th>\n",
       "      <th>iny_gas</th>\n",
       "      <th>iny_co2</th>\n",
       "      <th>...</th>\n",
       "      <th>idareayacimiento</th>\n",
       "      <th>areayacimiento</th>\n",
       "      <th>cuenca</th>\n",
       "      <th>provincia</th>\n",
       "      <th>tipo_de_recurso</th>\n",
       "      <th>proyecto</th>\n",
       "      <th>clasificacion</th>\n",
       "      <th>subclasificacion</th>\n",
       "      <th>sub_tipo_recurso</th>\n",
       "      <th>fecha_data</th>\n",
       "    </tr>\n",
       "  </thead>\n",
       "  <tbody>\n",
       "    <tr>\n",
       "      <th>0</th>\n",
       "      <td>Z001</td>\n",
       "      <td>2024</td>\n",
       "      <td>1</td>\n",
       "      <td>32186</td>\n",
       "      <td>0.0</td>\n",
       "      <td>0.0</td>\n",
       "      <td>0.0</td>\n",
       "      <td>0.0</td>\n",
       "      <td>0.0</td>\n",
       "      <td>0.0</td>\n",
       "      <td>...</td>\n",
       "      <td>PUSU</td>\n",
       "      <td>PUESTO SURVELIN</td>\n",
       "      <td>NEUQUINA</td>\n",
       "      <td>Rio Negro</td>\n",
       "      <td>CONVENCIONAL</td>\n",
       "      <td>Sin Proyecto</td>\n",
       "      <td>EXPLORACION</td>\n",
       "      <td>EXPLORACION</td>\n",
       "      <td>NaN</td>\n",
       "      <td>2024-01-31</td>\n",
       "    </tr>\n",
       "    <tr>\n",
       "      <th>1</th>\n",
       "      <td>Z001</td>\n",
       "      <td>2024</td>\n",
       "      <td>1</td>\n",
       "      <td>144117</td>\n",
       "      <td>0.0</td>\n",
       "      <td>0.0</td>\n",
       "      <td>0.0</td>\n",
       "      <td>0.0</td>\n",
       "      <td>0.0</td>\n",
       "      <td>0.0</td>\n",
       "      <td>...</td>\n",
       "      <td>PUSU</td>\n",
       "      <td>PUESTO SURVELIN</td>\n",
       "      <td>NEUQUINA</td>\n",
       "      <td>Rio Negro</td>\n",
       "      <td>CONVENCIONAL</td>\n",
       "      <td>Sin Proyecto</td>\n",
       "      <td>EXPLORACION</td>\n",
       "      <td>EXPLORACION</td>\n",
       "      <td>NaN</td>\n",
       "      <td>2024-01-31</td>\n",
       "    </tr>\n",
       "    <tr>\n",
       "      <th>2</th>\n",
       "      <td>Z001</td>\n",
       "      <td>2024</td>\n",
       "      <td>1</td>\n",
       "      <td>145614</td>\n",
       "      <td>0.0</td>\n",
       "      <td>0.0</td>\n",
       "      <td>0.0</td>\n",
       "      <td>0.0</td>\n",
       "      <td>0.0</td>\n",
       "      <td>0.0</td>\n",
       "      <td>...</td>\n",
       "      <td>FDRO</td>\n",
       "      <td>FLOR DE ROCA</td>\n",
       "      <td>NEUQUINA</td>\n",
       "      <td>Rio Negro</td>\n",
       "      <td>CONVENCIONAL</td>\n",
       "      <td>Sin Proyecto</td>\n",
       "      <td>EXPLORACION</td>\n",
       "      <td>EXPLORACION</td>\n",
       "      <td>NaN</td>\n",
       "      <td>2024-01-31</td>\n",
       "    </tr>\n",
       "    <tr>\n",
       "      <th>3</th>\n",
       "      <td>Z001</td>\n",
       "      <td>2024</td>\n",
       "      <td>1</td>\n",
       "      <td>145615</td>\n",
       "      <td>0.0</td>\n",
       "      <td>0.0</td>\n",
       "      <td>0.0</td>\n",
       "      <td>0.0</td>\n",
       "      <td>0.0</td>\n",
       "      <td>0.0</td>\n",
       "      <td>...</td>\n",
       "      <td>FDRO</td>\n",
       "      <td>FLOR DE ROCA</td>\n",
       "      <td>NEUQUINA</td>\n",
       "      <td>Rio Negro</td>\n",
       "      <td>CONVENCIONAL</td>\n",
       "      <td>Sin Proyecto</td>\n",
       "      <td>SERVICIO</td>\n",
       "      <td>SUMIDERO</td>\n",
       "      <td>NaN</td>\n",
       "      <td>2024-01-31</td>\n",
       "    </tr>\n",
       "    <tr>\n",
       "      <th>4</th>\n",
       "      <td>Z001</td>\n",
       "      <td>2024</td>\n",
       "      <td>1</td>\n",
       "      <td>145626</td>\n",
       "      <td>0.0</td>\n",
       "      <td>0.0</td>\n",
       "      <td>0.0</td>\n",
       "      <td>0.0</td>\n",
       "      <td>0.0</td>\n",
       "      <td>0.0</td>\n",
       "      <td>...</td>\n",
       "      <td>AGR</td>\n",
       "      <td>GENERAL ROCA</td>\n",
       "      <td>NEUQUINA</td>\n",
       "      <td>Rio Negro</td>\n",
       "      <td>CONVENCIONAL</td>\n",
       "      <td>Sin Proyecto</td>\n",
       "      <td>EXPLORACION</td>\n",
       "      <td>EXPLORACION</td>\n",
       "      <td>NaN</td>\n",
       "      <td>2024-01-31</td>\n",
       "    </tr>\n",
       "  </tbody>\n",
       "</table>\n",
       "<p>5 rows × 38 columns</p>\n",
       "</div>"
      ],
      "text/plain": [
       "  idempresa  anio  mes  idpozo  prod_pet  prod_gas  prod_agua  iny_agua  \\\n",
       "0      Z001  2024    1   32186       0.0       0.0        0.0       0.0   \n",
       "1      Z001  2024    1  144117       0.0       0.0        0.0       0.0   \n",
       "2      Z001  2024    1  145614       0.0       0.0        0.0       0.0   \n",
       "3      Z001  2024    1  145615       0.0       0.0        0.0       0.0   \n",
       "4      Z001  2024    1  145626       0.0       0.0        0.0       0.0   \n",
       "\n",
       "   iny_gas  iny_co2  ...  idareayacimiento   areayacimiento    cuenca  \\\n",
       "0      0.0      0.0  ...              PUSU  PUESTO SURVELIN  NEUQUINA   \n",
       "1      0.0      0.0  ...              PUSU  PUESTO SURVELIN  NEUQUINA   \n",
       "2      0.0      0.0  ...              FDRO     FLOR DE ROCA  NEUQUINA   \n",
       "3      0.0      0.0  ...              FDRO     FLOR DE ROCA  NEUQUINA   \n",
       "4      0.0      0.0  ...               AGR     GENERAL ROCA  NEUQUINA   \n",
       "\n",
       "   provincia tipo_de_recurso      proyecto clasificacion subclasificacion  \\\n",
       "0  Rio Negro    CONVENCIONAL  Sin Proyecto   EXPLORACION      EXPLORACION   \n",
       "1  Rio Negro    CONVENCIONAL  Sin Proyecto   EXPLORACION      EXPLORACION   \n",
       "2  Rio Negro    CONVENCIONAL  Sin Proyecto   EXPLORACION      EXPLORACION   \n",
       "3  Rio Negro    CONVENCIONAL  Sin Proyecto      SERVICIO         SUMIDERO   \n",
       "4  Rio Negro    CONVENCIONAL  Sin Proyecto   EXPLORACION      EXPLORACION   \n",
       "\n",
       "  sub_tipo_recurso  fecha_data  \n",
       "0              NaN  2024-01-31  \n",
       "1              NaN  2024-01-31  \n",
       "2              NaN  2024-01-31  \n",
       "3              NaN  2024-01-31  \n",
       "4              NaN  2024-01-31  \n",
       "\n",
       "[5 rows x 38 columns]"
      ]
     },
     "execution_count": 17,
     "metadata": {},
     "output_type": "execute_result"
    }
   ],
   "source": [
    "df_pozos_general_2024.head()"
   ]
  },
  {
   "cell_type": "markdown",
   "metadata": {},
   "source": [
    "## Unicidad"
   ]
  },
  {
   "cell_type": "markdown",
   "metadata": {},
   "source": [
    "**Capítulo IV Pozos**"
   ]
  },
  {
   "cell_type": "code",
   "execution_count": 24,
   "metadata": {},
   "outputs": [
    {
     "data": {
      "text/plain": [
       "Index(['sigla', 'idpozo', 'area', 'cod_area', 'empresa', 'yacimiento',\n",
       "       'cod_yacimiento', 'formacion', 'cuenca', 'provincia', 'cota',\n",
       "       'profundidad', 'clasificacion', 'subclasificacion', 'tipo_recurso',\n",
       "       'sub_tipo_recurso', 'gasplus', 'tipopozo', 'tipoextraccion',\n",
       "       'tipoestado', 'adjiv_fecha_inicio_perf', 'adjiv_fecha_fin_perf',\n",
       "       'adjiv_fecha_inicio_term', 'adjiv_fecha_fin_term', 'geojson', 'geom'],\n",
       "      dtype='object')"
      ]
     },
     "execution_count": 24,
     "metadata": {},
     "output_type": "execute_result"
    }
   ],
   "source": [
    "df_pozos_general.columns"
   ]
  },
  {
   "cell_type": "markdown",
   "metadata": {},
   "source": [
    "Conceptualmente, la clave primaria de cada observación es el campo \"id_pozo\". Sin embargo, en el caso de los datos de producción de pozos convencionales y no convencionales, la clave primaria es la combinación de los campos \"id_pozo\"."
   ]
  },
  {
   "cell_type": "code",
   "execution_count": 9,
   "metadata": {},
   "outputs": [
    {
     "name": "stdout",
     "output_type": "stream",
     "text": [
      "Proporción de pozos únicos: 100.000%\n"
     ]
    }
   ],
   "source": [
    "unique_pozos = df_pozos_general[['idpozo']].drop_duplicates()\n",
    "print('Proporción de pozos únicos:', f\"{unique_pozos.shape[0] / df_pozos_general.shape[0]:.3%}\")"
   ]
  },
  {
   "cell_type": "markdown",
   "metadata": {},
   "source": [
    "**Producción general**\n",
    "\n",
    "Acá tenemos otros datos (mes, año, empresa). Estas se agregan a la clave"
   ]
  },
  {
   "cell_type": "code",
   "execution_count": 12,
   "metadata": {},
   "outputs": [
    {
     "data": {
      "text/plain": [
       "Index(['idempresa', 'anio', 'mes', 'idpozo', 'prod_pet', 'prod_gas',\n",
       "       'prod_agua', 'iny_agua', 'iny_gas', 'iny_co2', 'iny_otro', 'tef',\n",
       "       'vida_util', 'tipoextraccion', 'tipoestado', 'tipopozo',\n",
       "       'observaciones', 'fechaingreso', 'rectificado', 'habilitado',\n",
       "       'idusuario', 'empresa', 'sigla', 'formprod', 'profundidad', 'formacion',\n",
       "       'idareapermisoconcesion', 'areapermisoconcesion', 'idareayacimiento',\n",
       "       'areayacimiento', 'cuenca', 'provincia', 'tipo_de_recurso', 'proyecto',\n",
       "       'clasificacion', 'subclasificacion', 'sub_tipo_recurso', 'fecha_data'],\n",
       "      dtype='object')"
      ]
     },
     "execution_count": 12,
     "metadata": {},
     "output_type": "execute_result"
    }
   ],
   "source": [
    "df_pozos_general_2024.columns"
   ]
  },
  {
   "cell_type": "code",
   "execution_count": 13,
   "metadata": {},
   "outputs": [
    {
     "name": "stdout",
     "output_type": "stream",
     "text": [
      "Proporción de pozos únicos: 100.000%\n"
     ]
    }
   ],
   "source": [
    "unique_pozos = df_pozos_general_2024[['idpozo', 'idempresa', 'anio', 'mes']].drop_duplicates()\n",
    "print('Proporción de registros únicos:', f\"{unique_pozos.shape[0] / df_pozos_general_2024.shape[0]:.3%}\")"
   ]
  },
  {
   "cell_type": "markdown",
   "metadata": {},
   "source": [
    "**No convencional**"
   ]
  },
  {
   "cell_type": "code",
   "execution_count": 15,
   "metadata": {},
   "outputs": [
    {
     "name": "stdout",
     "output_type": "stream",
     "text": [
      "Proporción de registros únicos: 100.000%\n"
     ]
    }
   ],
   "source": [
    "unique_pozos = df_pozos_noconvencional[['idpozo', 'idempresa', 'anio', 'mes']].drop_duplicates()\n",
    "print('Proporción de registros únicos:', f\"{unique_pozos.shape[0] / df_pozos_noconvencional.shape[0]:.3%}\")"
   ]
  },
  {
   "cell_type": "markdown",
   "metadata": {},
   "source": [
    "## Consistencia dentro de cada fuente"
   ]
  },
  {
   "cell_type": "markdown",
   "metadata": {},
   "source": [
    "#### **Capítulo IV Pozos**"
   ]
  },
  {
   "cell_type": "markdown",
   "metadata": {},
   "source": [
    "**Cada `id_pozo` debe tener una única sigla, y viceversa.**"
   ]
  },
  {
   "cell_type": "code",
   "execution_count": 23,
   "metadata": {},
   "outputs": [
    {
     "name": "stdout",
     "output_type": "stream",
     "text": [
      "Razón entre siglas únicas y IDs únicos: 0.914\n"
     ]
    }
   ],
   "source": [
    "unique_sigla = df_pozos_general[['sigla']].drop_duplicates()\n",
    "unique_pozos = df_pozos_general[['idpozo']].drop_duplicates()\n",
    "print('Razón entre siglas únicas y IDs únicos:', f\"{unique_sigla.shape[0] / unique_pozos.shape[0]:.3f}\")"
   ]
  },
  {
   "cell_type": "markdown",
   "metadata": {},
   "source": [
    "Hay IDs para los cuales se repite la sigla, pues hay más IDs que siglas, lo cual representa un problema."
   ]
  },
  {
   "cell_type": "markdown",
   "metadata": {},
   "source": [
    "**Cada `id_pozo` debe tener una única coordenada, y viceversa.**"
   ]
  },
  {
   "cell_type": "code",
   "execution_count": 25,
   "metadata": {},
   "outputs": [
    {
     "name": "stdout",
     "output_type": "stream",
     "text": [
      "Razón entre coordenadas únicas y IDs únicos: 0.923\n"
     ]
    }
   ],
   "source": [
    "unique_coord = df_pozos_general[['geojson']].drop_duplicates()\n",
    "unique_pozos = df_pozos_general[['idpozo']].drop_duplicates()\n",
    "print('Razón entre coordenadas únicas y IDs únicos:', f\"{unique_coord.shape[0] / unique_pozos.shape[0]:.3f}\")"
   ]
  },
  {
   "cell_type": "code",
   "execution_count": 10,
   "metadata": {},
   "outputs": [
    {
     "data": {
      "text/plain": [
       "geojson                                                                 \n",
       "{\"type\":\"Point\",\"coordinates\":[-68.252159000000006,-52.570556000000003]}    24\n",
       "{\"type\":\"Point\",\"coordinates\":[-68.311398999999994,-52.549014999999997]}    24\n",
       "{\"type\":\"Point\",\"coordinates\":[-68.384549000000007,-52.531370000000003]}    22\n",
       "{\"type\":\"Point\",\"coordinates\":[-70.008876999999998,-45.972410000000004]}    11\n",
       "{\"type\":\"Point\",\"coordinates\":[-68.280359000000004,-52.522579]}             10\n",
       "                                                                            ..\n",
       "{\"type\":\"Point\",\"coordinates\":[-67.998825179999997,-45.861947950000001]}     1\n",
       "{\"type\":\"Point\",\"coordinates\":[-67.998766000000003,-46.778046260000004]}     1\n",
       "{\"type\":\"Point\",\"coordinates\":[-67.998730940000002,-46.725223479999997]}     1\n",
       "{\"type\":\"Point\",\"coordinates\":[-67.998699999999999,-46.685639999999999]}     1\n",
       "{\"type\":\"Point\",\"coordinates\":[-72.105900000000005,-50.998550000000002]}     1\n",
       "Name: count, Length: 77757, dtype: int64"
      ]
     },
     "execution_count": 10,
     "metadata": {},
     "output_type": "execute_result"
    }
   ],
   "source": [
    "df_pozos_general[['geojson']].value_counts()"
   ]
  },
  {
   "cell_type": "markdown",
   "metadata": {},
   "source": [
    "Un problema similar al de las siglas ocurre para las coordenadas."
   ]
  },
  {
   "cell_type": "markdown",
   "metadata": {},
   "source": [
    "**La fecha de inicio de perforación debe ser menor a la fecha de fin de perforación.**"
   ]
  },
  {
   "cell_type": "code",
   "execution_count": 8,
   "metadata": {},
   "outputs": [
    {
     "name": "stdout",
     "output_type": "stream",
     "text": [
      "Proporción de fechas donde el inicio es anterior al fin: 59.319%\n"
     ]
    }
   ],
   "source": [
    "df_pozos_general['adjiv_fecha_inicio_perf'] = pd.to_datetime(df_pozos_general['adjiv_fecha_inicio_perf'])\n",
    "df_pozos_general['adjiv_fecha_fin_perf'] = pd.to_datetime(df_pozos_general['adjiv_fecha_fin_perf'])\n",
    "\n",
    "print(\"Proporción de fechas donde el inicio es anterior al fin:\", f\"{(df_pozos_general['adjiv_fecha_inicio_perf'] <= df_pozos_general['adjiv_fecha_fin_perf']).sum() / df_pozos_general.shape[0]:.3%}\")"
   ]
  },
  {
   "cell_type": "markdown",
   "metadata": {},
   "source": [
    "#### **No convencional**"
   ]
  },
  {
   "cell_type": "code",
   "execution_count": 21,
   "metadata": {},
   "outputs": [
    {
     "name": "stdout",
     "output_type": "stream",
     "text": [
      "Proporción de pozos no convencionales: 100.000%\n"
     ]
    }
   ],
   "source": [
    "tipo_recurso_no_conv = np.sum(df_pozos_noconvencional['tipo_de_recurso'] == 'NO CONVENCIONAL')\n",
    "print('Proporción de pozos no convencionales:', f\"{tipo_recurso_no_conv / df_pozos_noconvencional.shape[0]:.3%}\")"
   ]
  },
  {
   "cell_type": "markdown",
   "metadata": {},
   "source": [
    "**Cada `id_pozo` debe tener una única sigla, y viceversa.**"
   ]
  },
  {
   "cell_type": "code",
   "execution_count": 14,
   "metadata": {},
   "outputs": [
    {
     "name": "stdout",
     "output_type": "stream",
     "text": [
      "Razón entre siglas únicas y IDs únicos: 0.943\n"
     ]
    }
   ],
   "source": [
    "unique_sigla = df_pozos_noconvencional[['sigla', 'idempresa', 'anio', 'mes']].drop_duplicates()\n",
    "unique_pozos = df_pozos_noconvencional[['idpozo', 'idempresa', 'anio', 'mes']].drop_duplicates()\n",
    "print('Razón entre siglas únicas y IDs únicos:', f\"{unique_sigla.shape[0] / unique_pozos.shape[0]:.3f}\")"
   ]
  },
  {
   "cell_type": "markdown",
   "metadata": {},
   "source": [
    "**Cada `id_pozo` debe tener su coordenada, y viceversa.**"
   ]
  },
  {
   "cell_type": "code",
   "execution_count": 18,
   "metadata": {},
   "outputs": [
    {
     "name": "stdout",
     "output_type": "stream",
     "text": [
      "Razón entre coordenadas únicas y IDs únicos: 0.947\n"
     ]
    }
   ],
   "source": [
    "unique_coord =  df_pozos_noconvencional[['coordenadax', 'coordenaday', 'idempresa', 'anio', 'mes']].drop_duplicates()\n",
    "unique_pozos =  df_pozos_noconvencional[['idpozo', 'idempresa', 'anio', 'mes']].drop_duplicates()\n",
    "print('Razón entre coordenadas únicas y IDs únicos:', f\"{unique_coord.shape[0] / unique_pozos.shape[0]:.3f}\")"
   ]
  },
  {
   "cell_type": "markdown",
   "metadata": {},
   "source": [
    "#### **Producción general**"
   ]
  },
  {
   "cell_type": "code",
   "execution_count": 21,
   "metadata": {},
   "outputs": [
    {
     "name": "stdout",
     "output_type": "stream",
     "text": [
      "Razón entre siglas únicas y IDs únicos: 0.914\n"
     ]
    }
   ],
   "source": [
    "unique_sigla = df_pozos_general_2024[['sigla', 'idempresa', 'anio', 'mes']].drop_duplicates()\n",
    "unique_pozos = df_pozos_general_2024[['idpozo', 'idempresa', 'anio', 'mes']].drop_duplicates()\n",
    "print('Razón entre siglas únicas y IDs únicos:', f\"{unique_sigla.shape[0] / unique_pozos.shape[0]:.3f}\")"
   ]
  }
 ],
 "metadata": {
  "kernelspec": {
   "display_name": "base",
   "language": "python",
   "name": "python3"
  },
  "language_info": {
   "codemirror_mode": {
    "name": "ipython",
    "version": 3
   },
   "file_extension": ".py",
   "mimetype": "text/x-python",
   "name": "python",
   "nbconvert_exporter": "python",
   "pygments_lexer": "ipython3",
   "version": "undefined.undefined.undefined"
  }
 },
 "nbformat": 4,
 "nbformat_minor": 2
}
