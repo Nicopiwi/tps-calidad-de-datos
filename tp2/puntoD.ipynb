{
 "cells": [
  {
   "cell_type": "code",
   "execution_count": 103,
   "metadata": {},
   "outputs": [],
   "source": [
    "import pandas as pd\n",
    "import numpy as np\n",
    "import matplotlib.pyplot as plt"
   ]
  },
  {
   "cell_type": "code",
   "execution_count": 104,
   "metadata": {},
   "outputs": [],
   "source": [
    "df_pozos_data = pd.read_csv('./data/capitulo-iv-pozos.csv')\n",
    "df_pozos_general_2024 = pd.read_csv('./data/produccin-de-pozos-de-gas-y-petrleo-2024.csv', low_memory=False)\n",
    "df_pozos_noconvencional = pd.read_csv('./data/produccin-de-pozos-de-gas-y-petrleo-no-convencional.csv', low_memory=False)\n",
    "\n",
    "df_pozos_noconvencional_2024 = df_pozos_noconvencional[df_pozos_noconvencional['anio'] == 2024]\n",
    "df_pozos_convencional_2024= df_pozos_general_2024[df_pozos_general_2024['tipo_de_recurso'] == 'CONVENCIONAL']\n",
    "\n",
    "delgeneral_pozos_noconvencional_2024= df_pozos_general_2024[df_pozos_general_2024['tipo_de_recurso'] == 'NO CONVENCIONAL']\n"
   ]
  },
  {
   "cell_type": "code",
   "execution_count": 105,
   "metadata": {},
   "outputs": [
    {
     "data": {
      "text/plain": [
       "(40080, 40)"
      ]
     },
     "execution_count": 105,
     "metadata": {},
     "output_type": "execute_result"
    }
   ],
   "source": [
    "df_pozos_noconvencional_2024.shape"
   ]
  },
  {
   "cell_type": "code",
   "execution_count": 106,
   "metadata": {},
   "outputs": [
    {
     "data": {
      "text/plain": [
       "(40111, 38)"
      ]
     },
     "execution_count": 106,
     "metadata": {},
     "output_type": "execute_result"
    }
   ],
   "source": [
    "delgeneral_pozos_noconvencional_2024.shape"
   ]
  },
  {
   "cell_type": "markdown",
   "metadata": {},
   "source": [
    "Hay 31 casos que no están en el dataset de pozos no convencionales pero sí en el de pozos generales."
   ]
  },
  {
   "cell_type": "markdown",
   "metadata": {},
   "source": [
    "D) Efectuar un análisis descriptivo de la producción de petróleo y gas tanto para los pozos\n",
    "convencionales como los no convencionales para el año 2024.Efectuar el análisis de\n",
    "petróleo y gas por separado. "
   ]
  },
  {
   "cell_type": "code",
   "execution_count": 107,
   "metadata": {},
   "outputs": [],
   "source": [
    "def formato_espanol(valor):\n",
    "    return f\"{valor:,.2f}\".replace(',', 'X').replace('.', ',').replace('X', '.')"
   ]
  },
  {
   "cell_type": "markdown",
   "metadata": {},
   "source": [
    "### Detalle total de la producción de petroleo por método de extracción:"
   ]
  },
  {
   "cell_type": "code",
   "execution_count": 108,
   "metadata": {},
   "outputs": [
    {
     "name": "stdout",
     "output_type": "stream",
     "text": [
      "                           convencional no_convencional          total\n",
      "tipoextraccion                                                        \n",
      "Bombeo Hidráulico                  0,00        2.040,92       2.040,92\n",
      "Bombeo Mecánico            6.752.940,03    1.545.947,92   8.298.887,95\n",
      "Cavidad Progresiva         3.587.958,14            0,00   3.587.958,14\n",
      "Electrosumergible          3.821.557,39       69.479,00   3.891.036,39\n",
      "Gas Lift                      79.133,98    1.552.900,33   1.632.034,31\n",
      "Jet Pump                      11.919,92        3.143,95      15.063,87\n",
      "Otros Tipos de Extracción      3.584,45            0,00       3.584,45\n",
      "Pistoneo (Swabbing)           15.631,56            0,00      15.631,56\n",
      "Plunger Lift                  57.007,92      120.654,38     177.662,31\n",
      "Sin Sistema de Extracción     26.487,46      200.407,13     226.894,59\n",
      "Surgencia Natural            884.529,15   15.135.483,72  16.020.012,87\n"
     ]
    }
   ],
   "source": [
    "# Crear Series con las producciones por método\n",
    "prod_p_conv_por_extraccion = df_pozos_convencional_2024.groupby('tipoextraccion')['prod_pet'].sum()\n",
    "prod_p_noconv_por_extraccion = df_pozos_noconvencional_2024.groupby('tipoextraccion')['prod_pet'].sum()\n",
    "\n",
    "# Combinar en un DataFrame\n",
    "df_prod_p_total = pd.DataFrame({\n",
    "    'convencional': prod_p_conv_por_extraccion,\n",
    "    'no_convencional': prod_p_noconv_por_extraccion\n",
    "}).fillna(0)  # Rellenar NaN con 0 para métodos que no aparezcan en uno de los dos\n",
    "\n",
    "# Calcular la producción total\n",
    "df_prod_p_total['total'] = df_prod_p_total['convencional'] + df_prod_p_total['no_convencional']\n",
    "\n",
    "\n",
    "print(df_prod_p_total.map(formato_espanol))\n"
   ]
  },
  {
   "cell_type": "markdown",
   "metadata": {},
   "source": [
    "### Totales de producción de petróleo:"
   ]
  },
  {
   "cell_type": "code",
   "execution_count": 109,
   "metadata": {},
   "outputs": [
    {
     "name": "stdout",
     "output_type": "stream",
     "text": [
      "Producción de petróleo convencional: 15.240.750,03 m3\n",
      "Producción de petróleo no convencional: 18.630.057,34 m3\n",
      "Producción de petróleo total: 33.870.807,37 m3\n"
     ]
    }
   ],
   "source": [
    "prod_p_conv_total=sum(df_prod_p_total['convencional'])\n",
    "prod_p_noconv_total=sum(df_prod_p_total['no_convencional'])\n",
    "prod_p_total=prod_p_conv_total+prod_p_noconv_total\n",
    "\n",
    "print(f'Producción de petróleo convencional: {prod_p_conv_total:,.2f} m3'.replace(',', 'X').replace('.', ',').replace('X', '.'))\n",
    "print(f'Producción de petróleo no convencional: {prod_p_noconv_total:,.2f} m3'.replace(',', 'X').replace('.', ',').replace('X', '.'))\n",
    "print(f'Producción de petróleo total: {prod_p_total:,.2f} m3'.replace(',', 'X').replace('.', ',').replace('X', '.'))"
   ]
  },
  {
   "cell_type": "markdown",
   "metadata": {},
   "source": [
    "### Detalle total de la producción de gas por método de extracción:"
   ]
  },
  {
   "cell_type": "code",
   "execution_count": 110,
   "metadata": {},
   "outputs": [
    {
     "name": "stdout",
     "output_type": "stream",
     "text": [
      "                            convencional no_convencional          total\n",
      "tipoextraccion                                                         \n",
      "Bombeo Hidráulico                   0,00          138,37         138,37\n",
      "Bombeo Mecánico             1.807.005,25      218.439,83   2.025.445,08\n",
      "Cavidad Progresiva            116.393,81            0,00     116.393,81\n",
      "Electrosumergible             200.949,05       10.621,49     211.570,54\n",
      "Gas Lift                      124.532,30      287.073,27     411.605,57\n",
      "Jet Pump                          364,19          383,31         747,50\n",
      "Otros Tipos de Extracción       1.993,08            0,00       1.993,08\n",
      "Pistoneo (Swabbing)               264,50            0,00         264,50\n",
      "Plunger Lift                  221.833,88      391.524,42     613.358,30\n",
      "Sin Sistema de Extracción     959.157,64      520.527,32   1.479.684,96\n",
      "Surgencia Natural          12.321.564,61   25.856.264,41  38.177.829,02\n"
     ]
    }
   ],
   "source": [
    "# Crear Series con las producciones por método\n",
    "prod_g_conv_por_extraccion = df_pozos_convencional_2024.groupby('tipoextraccion')['prod_gas'].sum()\n",
    "prod_g_noconv_por_extraccion = df_pozos_noconvencional_2024.groupby('tipoextraccion')['prod_gas'].sum()\n",
    "\n",
    "# Combinar en un DataFrame\n",
    "df_prod_g_total = pd.DataFrame({\n",
    "    'convencional': prod_g_conv_por_extraccion,\n",
    "    'no_convencional': prod_g_noconv_por_extraccion\n",
    "}).fillna(0)  # Rellenar NaN con 0 para métodos que no aparezcan en uno de los dos\n",
    "\n",
    "# Calcular la producción total\n",
    "df_prod_g_total['total'] = df_prod_g_total['convencional'] + df_prod_g_total['no_convencional']\n",
    "\n",
    "\n",
    "print(df_prod_g_total.map(formato_espanol))"
   ]
  },
  {
   "cell_type": "markdown",
   "metadata": {},
   "source": [
    "### Totales de producción de gas:"
   ]
  },
  {
   "cell_type": "code",
   "execution_count": 111,
   "metadata": {},
   "outputs": [
    {
     "name": "stdout",
     "output_type": "stream",
     "text": [
      "Producción de gas convencional: 15.754.058,32 miles de m3\n",
      "Producción de gas no convencional: 27.284.972,41 miles de m3\n",
      "Producción de gas total: 43.039.030,73 miles de m3\n"
     ]
    }
   ],
   "source": [
    "prod_g_conv_total=sum(df_prod_g_total['convencional'])\n",
    "prod_g_noconv_total=sum(df_prod_g_total['no_convencional'])\n",
    "prod_g_total=prod_g_conv_total+prod_g_noconv_total\n",
    "\n",
    "print(f'Producción de gas convencional: {prod_g_conv_total:,.2f} miles de m3'.replace(',', 'X').replace('.', ',').replace('X', '.'))\n",
    "print(f'Producción de gas no convencional: {prod_g_noconv_total:,.2f} miles de m3'.replace(',', 'X').replace('.', ',').replace('X', '.'))\n",
    "print(f'Producción de gas total: {prod_g_total:,.2f} miles de m3'.replace(',', 'X').replace('.', ',').replace('X', '.'))"
   ]
  },
  {
   "cell_type": "markdown",
   "metadata": {},
   "source": [
    "### Producción de petróleo por clasificación"
   ]
  },
  {
   "cell_type": "code",
   "execution_count": 112,
   "metadata": {},
   "outputs": [
    {
     "name": "stdout",
     "output_type": "stream",
     "text": [
      "                 convencional no_convencional          total\n",
      "clasificacion                                               \n",
      "ALMACENAMIENTO      19.808,51            0,00      19.808,51\n",
      "EXPLORACION        430.767,68      361.712,87     792.480,54\n",
      "EXPLOTACION     12.401.844,11   18.267.993,17  30.669.837,28\n",
      "SERVICIO            68.050,99            0,00      68.050,99\n"
     ]
    }
   ],
   "source": [
    "prod_p_conv_por_clasificacion= df_pozos_convencional_2024.groupby('clasificacion')['prod_pet'].sum()\n",
    "prod_p_noconv_por_clasificacion= df_pozos_noconvencional_2024.groupby('clasificacion')['prod_pet'].sum()\n",
    "df_prod_p_total_por_clasificacion = pd.DataFrame({\n",
    "    'convencional': prod_p_conv_por_clasificacion,\n",
    "    'no_convencional': prod_p_noconv_por_clasificacion\n",
    "}).fillna(0)\n",
    "\n",
    "df_prod_p_total_por_clasificacion['total'] = df_prod_p_total_por_clasificacion['convencional'] + df_prod_p_total_por_clasificacion['no_convencional']\n",
    "\n",
    "\n",
    "print(df_prod_p_total_por_clasificacion.map(formato_espanol))"
   ]
  },
  {
   "cell_type": "markdown",
   "metadata": {},
   "source": [
    "### Producción de gas por clasificación"
   ]
  },
  {
   "cell_type": "code",
   "execution_count": 113,
   "metadata": {},
   "outputs": [
    {
     "name": "stdout",
     "output_type": "stream",
     "text": [
      "                convencional no_convencional          total\n",
      "clasificacion                                              \n",
      "ALMACENAMIENTO     10.123,12            0,00      10.123,12\n",
      "EXPLORACION     1.400.876,21      438.532,22   1.839.408,43\n",
      "EXPLOTACION     9.610.387,99   26.842.278,55  36.452.666,54\n",
      "SERVICIO          121.715,30            0,00     121.715,30\n"
     ]
    }
   ],
   "source": [
    "prod_g_conv_por_clasificacion= df_pozos_convencional_2024.groupby('clasificacion')['prod_gas'].sum()\n",
    "prod_g_noconv_por_clasificacion= df_pozos_noconvencional_2024.groupby('clasificacion')['prod_gas'].sum()\n",
    "df_prod_g_total_por_clasificacion = pd.DataFrame({\n",
    "    'convencional': prod_g_conv_por_clasificacion,\n",
    "    'no_convencional': prod_g_noconv_por_clasificacion\n",
    "}).fillna(0)\n",
    "\n",
    "df_prod_g_total_por_clasificacion['total'] = df_prod_g_total_por_clasificacion['convencional'] + df_prod_g_total_por_clasificacion['no_convencional']\n",
    "\n",
    "\n",
    "print(df_prod_g_total_por_clasificacion.map(formato_espanol))"
   ]
  },
  {
   "cell_type": "markdown",
   "metadata": {},
   "source": [
    "### Producción de petroleo por mes del año"
   ]
  },
  {
   "cell_type": "code",
   "execution_count": 114,
   "metadata": {},
   "outputs": [
    {
     "name": "stdout",
     "output_type": "stream",
     "text": [
      "     convencional no_convencional         total\n",
      "mes                                            \n",
      "1    1.619.308,18    1.730.193,70  3.349.501,88\n",
      "2    1.486.482,50    1.651.045,87  3.137.528,37\n",
      "3    1.591.073,28    1.802.195,27  3.393.268,55\n",
      "4    1.538.022,55    1.759.161,18  3.297.183,73\n",
      "5    1.580.973,50    1.834.969,47  3.415.942,97\n",
      "6    1.386.820,31    1.810.154,68  3.196.974,98\n",
      "7    1.441.182,76    1.933.436,63  3.374.619,39\n",
      "8    1.529.084,11    2.015.479,48  3.544.563,58\n",
      "9    1.509.090,49    2.025.337,39  3.534.427,89\n",
      "10   1.558.712,35    2.068.083,69  3.626.796,03\n"
     ]
    }
   ],
   "source": [
    "prod_p_conv_por_mes= df_pozos_convencional_2024.groupby('mes')['prod_pet'].sum()\n",
    "prod_p_noconv_por_mes= df_pozos_noconvencional_2024.groupby('mes')['prod_pet'].sum()\n",
    "df_prod_p_total_por_mes= pd.DataFrame({\n",
    "    'convencional': prod_p_conv_por_mes,\n",
    "    'no_convencional': prod_p_noconv_por_mes\n",
    "}).fillna(0)\n",
    "\n",
    "df_prod_p_total_por_mes['total'] = df_prod_p_total_por_mes['convencional'] + df_prod_p_total_por_mes['no_convencional']\n",
    "\n",
    "\n",
    "print(df_prod_p_total_por_mes.map(formato_espanol))"
   ]
  },
  {
   "cell_type": "markdown",
   "metadata": {},
   "source": [
    "### Producción de gas por mes del año"
   ]
  },
  {
   "cell_type": "code",
   "execution_count": 115,
   "metadata": {},
   "outputs": [
    {
     "name": "stdout",
     "output_type": "stream",
     "text": [
      "     convencional no_convencional         total\n",
      "mes                                            \n",
      "1    1.532.240,72    2.305.711,68  3.837.952,40\n",
      "2    1.543.557,37    2.344.104,71  3.887.662,08\n",
      "3    1.629.323,71    2.545.116,55  4.174.440,26\n",
      "4    1.567.799,62    2.517.001,23  4.084.800,85\n",
      "5    1.634.483,04    3.019.848,23  4.654.331,26\n",
      "6    1.537.554,76    2.888.619,29  4.426.174,05\n",
      "7    1.557.070,43    3.150.927,68  4.707.998,11\n",
      "8    1.591.864,73    3.150.430,44  4.742.295,17\n",
      "9    1.540.461,99    2.873.198,02  4.413.660,02\n",
      "10   1.619.701,95    2.490.014,57  4.109.716,52\n"
     ]
    }
   ],
   "source": [
    "prod_g_conv_por_mes= df_pozos_convencional_2024.groupby('mes')['prod_gas'].sum()\n",
    "prod_g_noconv_por_mes= df_pozos_noconvencional_2024.groupby('mes')['prod_gas'].sum()\n",
    "df_prod_g_total_por_mes = pd.DataFrame({\n",
    "    'convencional': prod_g_conv_por_mes,\n",
    "    'no_convencional': prod_g_noconv_por_mes\n",
    "}).fillna(0)\n",
    "\n",
    "df_prod_g_total_por_mes['total'] = df_prod_g_total_por_mes['convencional'] + df_prod_g_total_por_mes['no_convencional']\n",
    "\n",
    "\n",
    "print(df_prod_g_total_por_mes.map(formato_espanol))"
   ]
  },
  {
   "cell_type": "markdown",
   "metadata": {},
   "source": [
    "### Producción de petróleo por empresa"
   ]
  },
  {
   "cell_type": "code",
   "execution_count": 116,
   "metadata": {},
   "outputs": [
    {
     "data": {
      "text/plain": [
       "array(['PETROLERA DEL COMAHUE S.A.', 'YPF S.A.',\n",
       "       'VISTA ENERGY ARGENTINA SAU', 'VENOIL S.A.', 'TECPETROL S.A.',\n",
       "       'TOTAL AUSTRAL S.A.', 'SELVA MARIA OIL S.A.',\n",
       "       'SAN JORGE PETROLEUM S.A.', 'ENAP SIPETROL ARGENTINA S.A.',\n",
       "       'SHELL ARGENTINA S.A.', 'COPESA CIA CONSTRUCTORA PETROLERA SA',\n",
       "       'ROCH S.A.', 'RECURSOS Y ENERGIA FORMOSA S.A.',\n",
       "       'QUINTANA E&P ARGENTINA S.R.L.', 'PETROLERA EL TREBOL S.A.',\n",
       "       'PETROMINERA CHUBUT S.E.', 'PETROLERA SAN MIGUEL S.A.',\n",
       "       'PETROLEOS SUDAMERICANOS S.A.', 'PRESIDENT PETROLEUM S.A.',\n",
       "       'PETROLERA PAMPA S.A. ', 'PLUSPETROL ENERGY S.A.',\n",
       "       'PLUSPETROL S.A.', 'Pilgrim Energy S.A.',\n",
       "       'PETROLSUR ENERGIA S.A. ', 'PATAGONIA ENERGY S.A.',\n",
       "       'PETROQUIMICA COMODORO RIVADAVIA S.A.',\n",
       "       'PATAGONIA RESOURCES S.A. ', 'PAMPETROL S.A.P.E.M',\n",
       "       'PAMPA ENERGIA S.A.', 'PAN AMERICAN ENERGY SL',\n",
       "       'OILSTONE ENERGIA S.A.', 'MEDANITO S.A.', 'KILWER S.A.',\n",
       "       'JUJUY HIDROCARBUROS SAU', 'INGENIERIA SIMA S.A.',\n",
       "       'INTEROIL ARGENTINA S A', 'INGENIERIA ALPA S.A.',\n",
       "       'HIGH LUCK GROUP LTD. - SUCURSAL ARGENTINA', 'HATTRICK ENERGY SAS',\n",
       "       'MADALENA ENERGY ARGENTINA SRL ', 'G Y G OIL SERVICE SRL',\n",
       "       'FOMICRUZ S.E.', 'ENERGICON S.A.',\n",
       "       'EXXONMOBIL EXPLORATION ARGENTINA S.R.L.', 'E.M.E.S.A',\n",
       "       'COLHUE HUAPI S.A.', 'CAPETROL ARGENTINA S.A.',\n",
       "       'CHEVRON ARGENTINA S.R.L.',\n",
       "       'COMPAÑÍA GENERAL DE COMBUSTIBLES S.A.', 'CGC ENERGIA SAU',\n",
       "       'CAPETROL S.A.', 'COMPAÑÍAS ASOCIADAS PETROLERAS S.A.',\n",
       "       'PETROFARO S.A.', 'CAPEX S.A.', 'CROWN POINT ENERGIA S.A.',\n",
       "       'ALIANZA PETROLERA ARGENTINA S.A.', 'ARGENTA ENERGIA S.A.',\n",
       "       'Petrolera Aconcagua Energia S.A.'], dtype=object)"
      ]
     },
     "execution_count": 116,
     "metadata": {},
     "output_type": "execute_result"
    }
   ],
   "source": [
    "df_pozos_convencional_2024['empresa'].unique()"
   ]
  },
  {
   "cell_type": "code",
   "execution_count": 117,
   "metadata": {},
   "outputs": [
    {
     "name": "stdout",
     "output_type": "stream",
     "text": [
      "                                           convencional no_convencional  \\\n",
      "empresa                                                                   \n",
      "ALIANZA PETROLERA ARGENTINA S.A.               1.172,62            0,00   \n",
      "ARGENTA ENERGIA S.A.                               0,00            0,00   \n",
      "CAPETROL ARGENTINA S.A.                        1.025,00            0,00   \n",
      "CAPETROL S.A.                                  1.274,00            0,00   \n",
      "CAPEX S.A.                                   397.922,01       72.674,50   \n",
      "CGC ENERGIA SAU                              848.971,30       31.330,40   \n",
      "CHEVRON ARGENTINA S.R.L.                     124.007,04      181.009,14   \n",
      "COLHUE HUAPI S.A.                             15.892,00            0,00   \n",
      "COMPAÑÍA GENERAL DE COMBUSTIBLES S.A.         81.796,37       25.388,75   \n",
      "COMPAÑÍAS ASOCIADAS PETROLERAS S.A.          510.442,02            0,00   \n",
      "COPESA CIA CONSTRUCTORA PETROLERA SA               0,00            0,00   \n",
      "CROWN POINT ENERGIA S.A.                           0,00            0,00   \n",
      "E.M.E.S.A                                      6.767,83            0,00   \n",
      "ENAP SIPETROL ARGENTINA S.A.                 132.368,11            0,00   \n",
      "ENERGICON S.A.                                     0,00            0,00   \n",
      "EXXONMOBIL EXPLORATION ARGENTINA S.R.L.            0,00      316.096,45   \n",
      "FOMICRUZ S.E.                                  5.691,60            0,00   \n",
      "G Y G OIL SERVICE SRL                             76,14          186,89   \n",
      "HATTRICK ENERGY SAS                           14.443,58            0,00   \n",
      "HIGH LUCK GROUP LTD. - SUCURSAL ARGENTINA     17.350,39            0,00   \n",
      "INGENIERIA ALPA S.A.                          10.848,83            0,00   \n",
      "INGENIERIA SIMA S.A.                              78,64            0,00   \n",
      "INTEROIL ARGENTINA S A                        11.217,11            0,00   \n",
      "JUJUY HIDROCARBUROS SAU                        8.225,93            0,00   \n",
      "KILWER S.A.                                        0,00      556.337,65   \n",
      "MADALENA ENERGY ARGENTINA SRL                 17.026,82            0,00   \n",
      "MEDANITO S.A.                                  5.227,50            0,00   \n",
      "OILSTONE ENERGIA S.A.                        105.385,78        1.080,23   \n",
      "PAMPA ENERGIA S.A.                               483,12       67.619,26   \n",
      "PAMPETROL S.A.P.E.M                           12.447,10            0,00   \n",
      "PAN AMERICAN ENERGY SL                     4.006.009,41    1.064.127,07   \n",
      "PATAGONIA ENERGY S.A.                         21.544,79          501,70   \n",
      "PATAGONIA RESOURCES S.A.                         297,00            0,00   \n",
      "PETROFARO S.A.                                   309,14            0,00   \n",
      "PETROLEOS SUDAMERICANOS S.A.                 140.126,00            0,00   \n",
      "PETROLERA DEL COMAHUE S.A.                         0,00            0,00   \n",
      "PETROLERA EL TREBOL S.A.                      46.354,52            0,00   \n",
      "PETROLERA PAMPA S.A.                               0,00            0,00   \n",
      "PETROLERA SAN MIGUEL S.A.                          0,00            0,00   \n",
      "PETROLSUR ENERGIA S.A.                            16,67            0,00   \n",
      "PETROMINERA CHUBUT S.E.                            0,00            0,00   \n",
      "PETROQUIMICA COMODORO RIVADAVIA S.A.         385.888,48       17.624,50   \n",
      "PLUSPETROL ENERGY S.A.                        10.247,90            0,00   \n",
      "PLUSPETROL S.A.                              952.312,15      662.947,06   \n",
      "PRESIDENT PETROLEUM S.A.                      51.783,03        3.143,95   \n",
      "Petrolera Aconcagua Energia S.A.             420.560,30        3.240,04   \n",
      "Pilgrim Energy S.A.                            8.491,49            0,00   \n",
      "QUINTANA E&P ARGENTINA S.R.L.                 10.800,50            0,00   \n",
      "RECURSOS Y ENERGIA FORMOSA S.A.               29.351,38            0,00   \n",
      "ROCH S.A.                                     42.017,84            0,00   \n",
      "SAN JORGE PETROLEUM S.A.                           0,00            0,00   \n",
      "SELVA MARIA OIL S.A.                               0,00            0,00   \n",
      "SHELL ARGENTINA S.A.                               0,00    1.614.123,83   \n",
      "TECPETROL S.A.                               381.433,77      586.727,69   \n",
      "TOTAL AUSTRAL S.A.                           200.082,47      254.520,96   \n",
      "VENOIL S.A.                                    4.534,19          343,17   \n",
      "VISTA ENERGY ARGENTINA SAU                    11.491,26    2.796.447,56   \n",
      "YPF S.A.                                   6.186.956,92   10.374.586,52   \n",
      "\n",
      "                                                   total  \n",
      "empresa                                                   \n",
      "ALIANZA PETROLERA ARGENTINA S.A.                1.172,62  \n",
      "ARGENTA ENERGIA S.A.                                0,00  \n",
      "CAPETROL ARGENTINA S.A.                         1.025,00  \n",
      "CAPETROL S.A.                                   1.274,00  \n",
      "CAPEX S.A.                                    470.596,51  \n",
      "CGC ENERGIA SAU                               880.301,70  \n",
      "CHEVRON ARGENTINA S.R.L.                      305.016,18  \n",
      "COLHUE HUAPI S.A.                              15.892,00  \n",
      "COMPAÑÍA GENERAL DE COMBUSTIBLES S.A.         107.185,12  \n",
      "COMPAÑÍAS ASOCIADAS PETROLERAS S.A.           510.442,02  \n",
      "COPESA CIA CONSTRUCTORA PETROLERA SA                0,00  \n",
      "CROWN POINT ENERGIA S.A.                            0,00  \n",
      "E.M.E.S.A                                       6.767,83  \n",
      "ENAP SIPETROL ARGENTINA S.A.                  132.368,11  \n",
      "ENERGICON S.A.                                      0,00  \n",
      "EXXONMOBIL EXPLORATION ARGENTINA S.R.L.       316.096,45  \n",
      "FOMICRUZ S.E.                                   5.691,60  \n",
      "G Y G OIL SERVICE SRL                             263,03  \n",
      "HATTRICK ENERGY SAS                            14.443,58  \n",
      "HIGH LUCK GROUP LTD. - SUCURSAL ARGENTINA      17.350,39  \n",
      "INGENIERIA ALPA S.A.                           10.848,83  \n",
      "INGENIERIA SIMA S.A.                               78,64  \n",
      "INTEROIL ARGENTINA S A                         11.217,11  \n",
      "JUJUY HIDROCARBUROS SAU                         8.225,93  \n",
      "KILWER S.A.                                   556.337,65  \n",
      "MADALENA ENERGY ARGENTINA SRL                  17.026,82  \n",
      "MEDANITO S.A.                                   5.227,50  \n",
      "OILSTONE ENERGIA S.A.                         106.466,01  \n",
      "PAMPA ENERGIA S.A.                             68.102,38  \n",
      "PAMPETROL S.A.P.E.M                            12.447,10  \n",
      "PAN AMERICAN ENERGY SL                      5.070.136,48  \n",
      "PATAGONIA ENERGY S.A.                          22.046,49  \n",
      "PATAGONIA RESOURCES S.A.                          297,00  \n",
      "PETROFARO S.A.                                    309,14  \n",
      "PETROLEOS SUDAMERICANOS S.A.                  140.126,00  \n",
      "PETROLERA DEL COMAHUE S.A.                          0,00  \n",
      "PETROLERA EL TREBOL S.A.                       46.354,52  \n",
      "PETROLERA PAMPA S.A.                                0,00  \n",
      "PETROLERA SAN MIGUEL S.A.                           0,00  \n",
      "PETROLSUR ENERGIA S.A.                             16,67  \n",
      "PETROMINERA CHUBUT S.E.                             0,00  \n",
      "PETROQUIMICA COMODORO RIVADAVIA S.A.          403.512,99  \n",
      "PLUSPETROL ENERGY S.A.                         10.247,90  \n",
      "PLUSPETROL S.A.                             1.615.259,21  \n",
      "PRESIDENT PETROLEUM S.A.                       54.926,98  \n",
      "Petrolera Aconcagua Energia S.A.              423.800,35  \n",
      "Pilgrim Energy S.A.                             8.491,49  \n",
      "QUINTANA E&P ARGENTINA S.R.L.                  10.800,50  \n",
      "RECURSOS Y ENERGIA FORMOSA S.A.                29.351,38  \n",
      "ROCH S.A.                                      42.017,84  \n",
      "SAN JORGE PETROLEUM S.A.                            0,00  \n",
      "SELVA MARIA OIL S.A.                                0,00  \n",
      "SHELL ARGENTINA S.A.                        1.614.123,83  \n",
      "TECPETROL S.A.                                968.161,46  \n",
      "TOTAL AUSTRAL S.A.                            454.603,44  \n",
      "VENOIL S.A.                                     4.877,36  \n",
      "VISTA ENERGY ARGENTINA SAU                  2.807.938,81  \n",
      "YPF S.A.                                   16.561.543,44  \n"
     ]
    }
   ],
   "source": [
    "prod_p_conv_por_empresa= df_pozos_convencional_2024.groupby('empresa')['prod_pet'].sum()\n",
    "prod_p_noconv_por_empresa= df_pozos_noconvencional_2024.groupby('empresa')['prod_pet'].sum()\n",
    "df_prod_p_total_por_empresa= pd.DataFrame({\n",
    "    'convencional': prod_p_conv_por_empresa,\n",
    "    'no_convencional': prod_p_noconv_por_empresa\n",
    "}).fillna(0)\n",
    "\n",
    "df_prod_p_total_por_empresa['total'] = df_prod_p_total_por_empresa['convencional'] + df_prod_p_total_por_empresa['no_convencional']\n",
    "\n",
    "\n",
    "print(df_prod_p_total_por_empresa.map(formato_espanol))"
   ]
  },
  {
   "cell_type": "markdown",
   "metadata": {},
   "source": [
    "### Producción de gas por empresa"
   ]
  },
  {
   "cell_type": "code",
   "execution_count": 118,
   "metadata": {},
   "outputs": [
    {
     "name": "stdout",
     "output_type": "stream",
     "text": [
      "                                           convencional no_convencional  \\\n",
      "empresa                                                                   \n",
      "ALIANZA PETROLERA ARGENTINA S.A.              10.338,50            0,00   \n",
      "ARGENTA ENERGIA S.A.                               0,00            0,00   \n",
      "CAPETROL ARGENTINA S.A.                        1.947,00            0,00   \n",
      "CAPETROL S.A.                                      0,00            0,00   \n",
      "CAPEX S.A.                                   290.413,45      221.610,51   \n",
      "CGC ENERGIA SAU                              497.336,85       85.338,10   \n",
      "CHEVRON ARGENTINA S.R.L.                      41.590,89       85.115,73   \n",
      "COLHUE HUAPI S.A.                                984,80            0,00   \n",
      "COMPAÑÍA GENERAL DE COMBUSTIBLES S.A.        416.697,83      869.052,56   \n",
      "COMPAÑÍAS ASOCIADAS PETROLERAS S.A.           26.743,62            0,00   \n",
      "COPESA CIA CONSTRUCTORA PETROLERA SA               0,00            0,00   \n",
      "CROWN POINT ENERGIA S.A.                           0,00            0,00   \n",
      "E.M.E.S.A                                        543,12            0,00   \n",
      "ENAP SIPETROL ARGENTINA S.A.                 663.812,68            0,00   \n",
      "ENERGICON S.A.                                     0,00            0,00   \n",
      "EXXONMOBIL EXPLORATION ARGENTINA S.R.L.            0,00      225.902,65   \n",
      "FOMICRUZ S.E.                                    457,50            0,00   \n",
      "G Y G OIL SERVICE SRL                             78,33           76,67   \n",
      "HATTRICK ENERGY SAS                                0,00            0,00   \n",
      "HIGH LUCK GROUP LTD. - SUCURSAL ARGENTINA         73,87            0,00   \n",
      "INGENIERIA ALPA S.A.                             998,11            0,00   \n",
      "INGENIERIA SIMA S.A.                               0,00            0,00   \n",
      "INTEROIL ARGENTINA S A                        58.739,67            0,00   \n",
      "JUJUY HIDROCARBUROS SAU                        2.334,04            0,00   \n",
      "KILWER S.A.                                        0,00       39.132,82   \n",
      "MADALENA ENERGY ARGENTINA SRL                  9.998,09            0,00   \n",
      "MEDANITO S.A.                                  1.554,89            0,00   \n",
      "OILSTONE ENERGIA S.A.                        202.333,82       36.798,91   \n",
      "PAMPA ENERGIA S.A.                           159.975,65    3.830.118,78   \n",
      "PAMPETROL S.A.P.E.M                            1.326,55            0,00   \n",
      "PAN AMERICAN ENERGY SL                     2.593.788,63    3.097.408,20   \n",
      "PATAGONIA ENERGY S.A.                          9.840,92          216,47   \n",
      "PATAGONIA RESOURCES S.A.                         744,00            0,00   \n",
      "PETROFARO S.A.                                 6.583,34            0,00   \n",
      "PETROLEOS SUDAMERICANOS S.A.                  40.263,05            0,00   \n",
      "PETROLERA DEL COMAHUE S.A.                         0,00            0,00   \n",
      "PETROLERA EL TREBOL S.A.                       3.746,20            0,00   \n",
      "PETROLERA PAMPA S.A.                               0,00            0,00   \n",
      "PETROLERA SAN MIGUEL S.A.                          0,00            0,00   \n",
      "PETROLSUR ENERGIA S.A.                         4.385,74            0,00   \n",
      "PETROMINERA CHUBUT S.E.                            0,00            0,00   \n",
      "PETROQUIMICA COMODORO RIVADAVIA S.A.         187.515,75        3.693,62   \n",
      "PLUSPETROL ENERGY S.A.                       115.400,41            0,00   \n",
      "PLUSPETROL S.A.                              224.592,40    2.193.965,43   \n",
      "PRESIDENT PETROLEUM S.A.                       2.624,05          383,31   \n",
      "Petrolera Aconcagua Energia S.A.             151.647,69       37.318,53   \n",
      "Pilgrim Energy S.A.                            5.457,26            0,00   \n",
      "QUINTANA E&P ARGENTINA S.R.L.                    968,05            0,00   \n",
      "RECURSOS Y ENERGIA FORMOSA S.A.                4.270,00            0,00   \n",
      "ROCH S.A.                                     87.451,11            0,00   \n",
      "SAN JORGE PETROLEUM S.A.                           1,51            0,00   \n",
      "SELVA MARIA OIL S.A.                               0,00            0,00   \n",
      "SHELL ARGENTINA S.A.                               0,00      164.536,32   \n",
      "TECPETROL S.A.                               744.715,15    5.274.967,37   \n",
      "TOTAL AUSTRAL S.A.                         6.010.390,04    3.396.705,87   \n",
      "VENOIL S.A.                                    1.994,26          522,40   \n",
      "VISTA ENERGY ARGENTINA SAU                    30.519,85      318.145,82   \n",
      "YPF S.A.                                   3.138.879,63    7.403.962,34   \n",
      "\n",
      "                                                   total  \n",
      "empresa                                                   \n",
      "ALIANZA PETROLERA ARGENTINA S.A.               10.338,50  \n",
      "ARGENTA ENERGIA S.A.                                0,00  \n",
      "CAPETROL ARGENTINA S.A.                         1.947,00  \n",
      "CAPETROL S.A.                                       0,00  \n",
      "CAPEX S.A.                                    512.023,96  \n",
      "CGC ENERGIA SAU                               582.674,95  \n",
      "CHEVRON ARGENTINA S.R.L.                      126.706,62  \n",
      "COLHUE HUAPI S.A.                                 984,80  \n",
      "COMPAÑÍA GENERAL DE COMBUSTIBLES S.A.       1.285.750,39  \n",
      "COMPAÑÍAS ASOCIADAS PETROLERAS S.A.            26.743,62  \n",
      "COPESA CIA CONSTRUCTORA PETROLERA SA                0,00  \n",
      "CROWN POINT ENERGIA S.A.                            0,00  \n",
      "E.M.E.S.A                                         543,12  \n",
      "ENAP SIPETROL ARGENTINA S.A.                  663.812,68  \n",
      "ENERGICON S.A.                                      0,00  \n",
      "EXXONMOBIL EXPLORATION ARGENTINA S.R.L.       225.902,65  \n",
      "FOMICRUZ S.E.                                     457,50  \n",
      "G Y G OIL SERVICE SRL                             155,00  \n",
      "HATTRICK ENERGY SAS                                 0,00  \n",
      "HIGH LUCK GROUP LTD. - SUCURSAL ARGENTINA          73,87  \n",
      "INGENIERIA ALPA S.A.                              998,11  \n",
      "INGENIERIA SIMA S.A.                                0,00  \n",
      "INTEROIL ARGENTINA S A                         58.739,67  \n",
      "JUJUY HIDROCARBUROS SAU                         2.334,04  \n",
      "KILWER S.A.                                    39.132,82  \n",
      "MADALENA ENERGY ARGENTINA SRL                   9.998,09  \n",
      "MEDANITO S.A.                                   1.554,89  \n",
      "OILSTONE ENERGIA S.A.                         239.132,73  \n",
      "PAMPA ENERGIA S.A.                          3.990.094,43  \n",
      "PAMPETROL S.A.P.E.M                             1.326,55  \n",
      "PAN AMERICAN ENERGY SL                      5.691.196,83  \n",
      "PATAGONIA ENERGY S.A.                          10.057,39  \n",
      "PATAGONIA RESOURCES S.A.                          744,00  \n",
      "PETROFARO S.A.                                  6.583,34  \n",
      "PETROLEOS SUDAMERICANOS S.A.                   40.263,05  \n",
      "PETROLERA DEL COMAHUE S.A.                          0,00  \n",
      "PETROLERA EL TREBOL S.A.                        3.746,20  \n",
      "PETROLERA PAMPA S.A.                                0,00  \n",
      "PETROLERA SAN MIGUEL S.A.                           0,00  \n",
      "PETROLSUR ENERGIA S.A.                          4.385,74  \n",
      "PETROMINERA CHUBUT S.E.                             0,00  \n",
      "PETROQUIMICA COMODORO RIVADAVIA S.A.          191.209,37  \n",
      "PLUSPETROL ENERGY S.A.                        115.400,41  \n",
      "PLUSPETROL S.A.                             2.418.557,83  \n",
      "PRESIDENT PETROLEUM S.A.                        3.007,36  \n",
      "Petrolera Aconcagua Energia S.A.              188.966,22  \n",
      "Pilgrim Energy S.A.                             5.457,26  \n",
      "QUINTANA E&P ARGENTINA S.R.L.                     968,05  \n",
      "RECURSOS Y ENERGIA FORMOSA S.A.                 4.270,00  \n",
      "ROCH S.A.                                      87.451,11  \n",
      "SAN JORGE PETROLEUM S.A.                            1,51  \n",
      "SELVA MARIA OIL S.A.                                0,00  \n",
      "SHELL ARGENTINA S.A.                          164.536,32  \n",
      "TECPETROL S.A.                              6.019.682,52  \n",
      "TOTAL AUSTRAL S.A.                          9.407.095,91  \n",
      "VENOIL S.A.                                     2.516,66  \n",
      "VISTA ENERGY ARGENTINA SAU                    348.665,68  \n",
      "YPF S.A.                                   10.542.841,97  \n"
     ]
    }
   ],
   "source": [
    "prod_g_conv_por_empresa= df_pozos_convencional_2024.groupby('empresa')['prod_gas'].sum()\n",
    "prod_g_noconv_por_empresa= df_pozos_noconvencional_2024.groupby('empresa')['prod_gas'].sum()\n",
    "df_prod_g_total_por_empresa= pd.DataFrame({\n",
    "    'convencional': prod_g_conv_por_empresa,\n",
    "    'no_convencional': prod_g_noconv_por_empresa\n",
    "}).fillna(0)\n",
    "\n",
    "df_prod_g_total_por_empresa['total'] = df_prod_g_total_por_empresa['convencional'] + df_prod_g_total_por_empresa['no_convencional']\n",
    "\n",
    "\n",
    "print(df_prod_g_total_por_empresa.map(formato_espanol))"
   ]
  },
  {
   "cell_type": "markdown",
   "metadata": {},
   "source": [
    "### Producción de petróleo por tipo de pozo"
   ]
  },
  {
   "cell_type": "code",
   "execution_count": 119,
   "metadata": {},
   "outputs": [
    {
     "name": "stdout",
     "output_type": "stream",
     "text": [
      "                                  convencional no_convencional          total\n",
      "tipopozo                                                                     \n",
      "Acuífero                                396,36            0,00         396,36\n",
      "Bidireccional de almacenamiento           0,00            0,00           0,00\n",
      "Gasífero                            802.118,93    1.488.342,71   2.290.461,64\n",
      "Inyección de Agua                       301,93            0,00         301,93\n",
      "Inyección de Gas                          0,00            0,00           0,00\n",
      "Inyector de almacenamiento                0,00            0,00           0,00\n",
      "Monitoreo de almacenamiento               0,00            0,00           0,00\n",
      "Otro tipo                             4.670,60            0,00       4.670,60\n",
      "Petrolífero                      14.433.262,21   17.141.714,63  31.574.976,85\n",
      "Sumidero                                  0,00            0,00           0,00\n"
     ]
    }
   ],
   "source": [
    "prod_p_conv_por_tipopozo= df_pozos_convencional_2024.groupby('tipopozo')['prod_pet'].sum()\n",
    "prod_p_noconv_por_tipopozo= df_pozos_noconvencional_2024.groupby('tipopozo')['prod_pet'].sum()\n",
    "df_prod_p_total_por_tipopozo= pd.DataFrame({\n",
    "    'convencional': prod_p_conv_por_tipopozo,\n",
    "    'no_convencional': prod_p_noconv_por_tipopozo\n",
    "}).fillna(0)\n",
    "\n",
    "df_prod_p_total_por_tipopozo['total'] = df_prod_p_total_por_tipopozo['convencional'] + df_prod_p_total_por_tipopozo['no_convencional']\n",
    "\n",
    "print(df_prod_p_total_por_tipopozo.map(formato_espanol))"
   ]
  },
  {
   "cell_type": "markdown",
   "metadata": {},
   "source": [
    "### Producción de gas por tipo de pozo"
   ]
  },
  {
   "cell_type": "code",
   "execution_count": 120,
   "metadata": {},
   "outputs": [
    {
     "name": "stdout",
     "output_type": "stream",
     "text": [
      "                                  convencional no_convencional          total\n",
      "tipopozo                                                                     \n",
      "Acuífero                              3.950,20            0,00       3.950,20\n",
      "Bidireccional de almacenamiento           0,00            0,00           0,00\n",
      "Gasífero                         12.680.620,00   24.616.971,49  37.297.591,49\n",
      "Inyección de Agua                       107,40            0,00         107,40\n",
      "Inyección de Gas                          0,00            0,00           0,00\n",
      "Inyector de almacenamiento                0,00            0,00           0,00\n",
      "Monitoreo de almacenamiento               0,00            0,00           0,00\n",
      "Otro tipo                             2.432,21            0,00       2.432,21\n",
      "Petrolífero                       3.066.948,51    2.668.000,92   5.734.949,43\n",
      "Sumidero                                  0,00            0,00           0,00\n"
     ]
    }
   ],
   "source": [
    "prod_g_conv_por_tipopozo= df_pozos_convencional_2024.groupby('tipopozo')['prod_gas'].sum()\n",
    "prod_g_noconv_por_tipopozo= df_pozos_noconvencional_2024.groupby('tipopozo')['prod_gas'].sum()\n",
    "df_prod_g_total_por_tipopozo= pd.DataFrame({\n",
    "    'convencional': prod_g_conv_por_tipopozo,\n",
    "    'no_convencional': prod_g_noconv_por_tipopozo\n",
    "}).fillna(0)\n",
    "\n",
    "df_prod_g_total_por_tipopozo['total'] = df_prod_g_total_por_tipopozo['convencional'] + df_prod_g_total_por_tipopozo['no_convencional']\n",
    "\n",
    "\n",
    "print(df_prod_g_total_por_tipopozo.map(formato_espanol))"
   ]
  },
  {
   "cell_type": "markdown",
   "metadata": {},
   "source": [
    "### Producción de petróleo por provincia"
   ]
  },
  {
   "cell_type": "markdown",
   "metadata": {},
   "source": [
    "##### Renombramos a Estado Nacional como: 'Tierra del Fuego, Antártida e Islas del Atlántico Sur' porque vimos que son coordenadas que responden a territorio de ultramar, generalmente cerca de la Antártida"
   ]
  },
  {
   "cell_type": "code",
   "execution_count": 121,
   "metadata": {},
   "outputs": [],
   "source": [
    "df_replace_pozos_convencional_2024= df_pozos_convencional_2024.replace('Estado Nacional','Tierra del Fuego')\n",
    "df_replace_pozos_noconvencional_2024= df_pozos_noconvencional_2024.replace('Estado Nacional','Tierra del Fuego')\n",
    "\n",
    "df_replace_pozos_convencional_2024= df_replace_pozos_convencional_2024.replace('Tierra del Fuego','Tierra del Fuego, Antártida e Islas del Atlántico Sur')\n",
    "df_replace_pozos_noconvencional_2024= df_replace_pozos_noconvencional_2024.replace('Tierra del Fuego','Tierra del Fuego, Antártida e Islas del Atlántico Sur')"
   ]
  },
  {
   "cell_type": "code",
   "execution_count": 122,
   "metadata": {},
   "outputs": [
    {
     "name": "stdout",
     "output_type": "stream",
     "text": [
      "                                                    convencional  \\\n",
      "provincia                                                          \n",
      "Chubut                                              6.168.385,12   \n",
      "Formosa                                                29.351,38   \n",
      "Jujuy                                                   8.225,93   \n",
      "La Pampa                                              612.728,95   \n",
      "Mendoza                                             2.695.190,95   \n",
      "Neuquén                                             1.240.735,23   \n",
      "Rio Negro                                             870.591,87   \n",
      "Salta                                                 131.035,70   \n",
      "Santa Cruz                                          3.141.442,03   \n",
      "Tierra del Fuego, Antártida e Islas del Atlánti...    343.062,87   \n",
      "\n",
      "                                                   no_convencional  \\\n",
      "provincia                                                            \n",
      "Chubut                                                    1.824,42   \n",
      "Formosa                                                       0,00   \n",
      "Jujuy                                                         0,00   \n",
      "La Pampa                                                      0,00   \n",
      "Mendoza                                                  33.236,69   \n",
      "Neuquén                                              18.456.586,71   \n",
      "Rio Negro                                                78.510,53   \n",
      "Salta                                                     3.143,95   \n",
      "Santa Cruz                                               56.755,03   \n",
      "Tierra del Fuego, Antártida e Islas del Atlánti...            0,00   \n",
      "\n",
      "                                                            total  \n",
      "provincia                                                          \n",
      "Chubut                                               6.170.209,54  \n",
      "Formosa                                                 29.351,38  \n",
      "Jujuy                                                    8.225,93  \n",
      "La Pampa                                               612.728,95  \n",
      "Mendoza                                              2.728.427,64  \n",
      "Neuquén                                             19.697.321,94  \n",
      "Rio Negro                                              949.102,41  \n",
      "Salta                                                  134.179,65  \n",
      "Santa Cruz                                           3.198.197,07  \n",
      "Tierra del Fuego, Antártida e Islas del Atlánti...     343.062,87  \n"
     ]
    }
   ],
   "source": [
    "\n",
    "prod_p_conv_por_provincia= df_replace_pozos_convencional_2024.groupby('provincia')['prod_pet'].sum()\n",
    "prod_p_noconv_por_provincia= df_replace_pozos_noconvencional_2024.groupby('provincia')['prod_pet'].sum()\n",
    "\n",
    "\n",
    "df_prod_p_total_por_provincia= pd.DataFrame({\n",
    "    'convencional': prod_p_conv_por_provincia,\n",
    "    'no_convencional': prod_p_noconv_por_provincia\n",
    "}).fillna(0)\n",
    "\n",
    "df_prod_p_total_por_provincia['total'] = df_prod_p_total_por_provincia['convencional'] + df_prod_p_total_por_provincia['no_convencional']\n",
    "\n",
    "df_prod_p_total_por_provincia= df_prod_p_total_por_provincia.replace('Tierra del Fuego','Tierra del Fuego, Antártida e Islas del Atlántico Sur')\n",
    "\n",
    "print(df_prod_p_total_por_provincia.map(formato_espanol))"
   ]
  },
  {
   "cell_type": "markdown",
   "metadata": {},
   "source": [
    "### Producción de gas por provincia"
   ]
  },
  {
   "cell_type": "code",
   "execution_count": 123,
   "metadata": {},
   "outputs": [
    {
     "name": "stdout",
     "output_type": "stream",
     "text": [
      "                                                    convencional  \\\n",
      "provincia                                                          \n",
      "Chubut                                              2.162.279,66   \n",
      "Formosa                                                 4.270,00   \n",
      "Jujuy                                                   2.334,04   \n",
      "La Pampa                                              183.202,22   \n",
      "Mendoza                                               430.930,90   \n",
      "Neuquén                                             3.855.485,90   \n",
      "Rio Negro                                             550.326,71   \n",
      "Salta                                               1.024.382,24   \n",
      "Santa Cruz                                          1.733.612,29   \n",
      "Tierra del Fuego, Antártida e Islas del Atlánti...  5.807.234,37   \n",
      "\n",
      "                                                   no_convencional  \\\n",
      "provincia                                                            \n",
      "Chubut                                                      493,12   \n",
      "Formosa                                                       0,00   \n",
      "Jujuy                                                         0,00   \n",
      "La Pampa                                                      0,00   \n",
      "Mendoza                                                  30.165,92   \n",
      "Neuquén                                              25.844.515,12   \n",
      "Rio Negro                                               454.999,10   \n",
      "Salta                                                       383,31   \n",
      "Santa Cruz                                              954.415,84   \n",
      "Tierra del Fuego, Antártida e Islas del Atlánti...            0,00   \n",
      "\n",
      "                                                            total  \n",
      "provincia                                                          \n",
      "Chubut                                               2.162.772,78  \n",
      "Formosa                                                  4.270,00  \n",
      "Jujuy                                                    2.334,04  \n",
      "La Pampa                                               183.202,22  \n",
      "Mendoza                                                461.096,82  \n",
      "Neuquén                                             29.700.001,02  \n",
      "Rio Negro                                            1.005.325,81  \n",
      "Salta                                                1.024.765,55  \n",
      "Santa Cruz                                           2.688.028,14  \n",
      "Tierra del Fuego, Antártida e Islas del Atlánti...   5.807.234,37  \n"
     ]
    }
   ],
   "source": [
    "prod_g_conv_por_provincia= df_replace_pozos_convencional_2024.groupby('provincia')['prod_gas'].sum()\n",
    "prod_g_noconv_por_provincia= df_replace_pozos_noconvencional_2024.groupby('provincia')['prod_gas'].sum()\n",
    "df_prod_g_total_por_provincia= pd.DataFrame({\n",
    "    'convencional': prod_g_conv_por_provincia,\n",
    "    'no_convencional': prod_g_noconv_por_provincia\n",
    "}).fillna(0)\n",
    "\n",
    "df_prod_g_total_por_provincia['total'] = df_prod_g_total_por_provincia['convencional'] + df_prod_g_total_por_provincia['no_convencional']\n",
    "\n",
    "\n",
    "print(df_prod_g_total_por_provincia.map(formato_espanol))"
   ]
  },
  {
   "cell_type": "markdown",
   "metadata": {},
   "source": [
    "### Gráficos"
   ]
  },
  {
   "cell_type": "code",
   "execution_count": 124,
   "metadata": {},
   "outputs": [
    {
     "data": {
      "text/plain": [
       "array(['Ciudad Autónoma de Buenos Aires', 'Neuquén', 'San Luis',\n",
       "       'Santa Fe', 'Chubut', 'Mendoza', 'Entre Ríoss', 'San Juan',\n",
       "       'Jujuy', 'Santiago del Estero', 'Río Negro', 'Corrientes',\n",
       "       'Misiones', 'Salta', 'Córdoba',\n",
       "       'Tierra del Fuego, Antártida e Islas del Atlántico Sur',\n",
       "       'Buenos Aires', 'La Pampa', 'La Rioja', 'Catamarca', 'Tucumán',\n",
       "       'Chaco', 'Formosa', 'Santa Cruz'], dtype=object)"
      ]
     },
     "execution_count": 124,
     "metadata": {},
     "output_type": "execute_result"
    }
   ],
   "source": [
    "argentina_map['NAM'].unique()"
   ]
  },
  {
   "cell_type": "code",
   "execution_count": null,
   "metadata": {},
   "outputs": [],
   "source": [
    "\n"
   ]
  },
  {
   "cell_type": "markdown",
   "metadata": {},
   "source": []
  }
 ],
 "metadata": {
  "kernelspec": {
   "display_name": "prueba",
   "language": "python",
   "name": "python3"
  },
  "language_info": {
   "codemirror_mode": {
    "name": "ipython",
    "version": 3
   },
   "file_extension": ".py",
   "mimetype": "text/x-python",
   "name": "python",
   "nbconvert_exporter": "python",
   "pygments_lexer": "ipython3",
   "version": "3.11.7"
  }
 },
 "nbformat": 4,
 "nbformat_minor": 2
}
